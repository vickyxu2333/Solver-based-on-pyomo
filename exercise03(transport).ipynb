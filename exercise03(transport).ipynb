{
 "cells": [
  {
   "cell_type": "markdown",
   "metadata": {},
   "source": [
    "## Question1(c)"
   ]
  },
  {
   "cell_type": "code",
   "execution_count": 43,
   "metadata": {},
   "outputs": [],
   "source": [
    "op = [500, 400, 550, 800, 600]\n",
    "\n",
    "#set model\n",
    "model4 = pe.ConcreteModel()\n",
    "model4.s1 = pe.Set(initialize = list((i,j) for i in plant2 for j in market))\n",
    "model4.s2 = pe.Set(initialize = list((m) for m in range(5)))\n",
    "\n",
    "#set variable\n",
    "model4.x1 = pe.Var(\n",
    "    model4.s1, domain = pe.NonNegativeReals)\n",
    "model4.x2 = pe.Var(\n",
    "    model4.s2, domain = pe.Binary)\n",
    "\n",
    "#set objective\n",
    "model4.obj = pe.Objective(\n",
    "    expr = sum(model4.x1[i, j] * trans3[j][i] for i,j in model4.s1) + sum((model4.x2[m] * op[m])/(10**6) for m in model4.s2),\n",
    "    sense = pe.minimize)"
   ]
  },
  {
   "cell_type": "code",
   "execution_count": 44,
   "metadata": {},
   "outputs": [],
   "source": [
    "#set constraints on supply\n",
    "model4.conssupplyA = pe.Constraint(\n",
    "    expr = sum(model4.x1['A1', j] + model4.x1['A2', j] for j in market) <= supply[0] * model4.x2[0])\n",
    "model4.conssupplyB = pe.Constraint(\n",
    "    expr = sum(model4.x1['B1', j] + model4.x1['B2', j] for j in market) <= supply[1] * model4.x2[1])\n",
    "model4.conssupplyC = pe.Constraint(\n",
    "    expr = sum(model4.x1['C1', j] + model4.x1['C2', j] for j in market) <= supply[2] * model4.x2[2])\n",
    "model4.conssupplyD = pe.Constraint(\n",
    "    expr = sum(model4.x1['D1', j] + model4.x1['D2', j] for j in market) <= supply[3] * model4.x2[3])\n",
    "model4.conssupplyE = pe.Constraint(\n",
    "    expr = sum(model4.x1['E1', j] + model4.x1['E2', j] for j in market) <= supply[4] * model4.x2[4])"
   ]
  },
  {
   "cell_type": "code",
   "execution_count": 45,
   "metadata": {
    "scrolled": true
   },
   "outputs": [],
   "source": [
    "#set constraints on demand\n",
    "model4.consdemand1 = pe.Constraint(\n",
    "    expr = sum(model4.x1[i, 1] for i in plant2) == demand[0])\n",
    "model4.consdemand2 = pe.Constraint(\n",
    "    expr = sum(model4.x1[i, 2] for i in plant2) == demand[1])\n",
    "model4.consdemand3 = pe.Constraint(\n",
    "    expr = sum(model4.x1[i, 3] for i in plant2) == demand[2])\n",
    "model4.consdemand4 = pe.Constraint(\n",
    "    expr = sum(model4.x1[i, 4] for i in plant2) == demand[3])\n",
    "model4.consdemand5 = pe.Constraint(\n",
    "    expr = sum(model4.x1[i, 5] for i in plant2) == demand[4])\n",
    "model4.consdemand6 = pe.Constraint(\n",
    "    expr = sum(model4.x1[i, 6] for i in plant2) == demand[5])\n",
    "model4.consdemand7 = pe.Constraint(\n",
    "    expr = sum(model4.x1[i, 7] for i in plant2) == demand[6])\n",
    "model4.consdemand8 = pe.Constraint(\n",
    "    expr = sum(model4.x1[i, 8] for i in plant2) == demand[7])\n",
    "model4.consdemand9 = pe.Constraint(\n",
    "    expr = sum(model4.x1[i, 9] for i in plant2) == demand[8])\n",
    "model4.consdemand10 = pe.Constraint(\n",
    "    expr = sum(model4.x1[i, 10] for i in plant2) == demand[9])"
   ]
  },
  {
   "cell_type": "code",
   "execution_count": 46,
   "metadata": {},
   "outputs": [
    {
     "data": {
      "text/plain": [
       "{'Problem': [{'Name': 'x106', 'Lower bound': 803.0020499999999, 'Upper bound': 803.0020499999999, 'Number of objectives': 1, 'Number of constraints': 16, 'Number of variables': 106, 'Number of binary variables': 5, 'Number of integer variables': 5, 'Number of continuous variables': 101, 'Number of nonzeros': 206, 'Sense': 'minimize'}], 'Solver': [{'Status': 'ok', 'Return code': '0', 'Message': 'Model was solved to optimality (subject to tolerances), and an optimal solution is available.', 'Termination condition': 'optimal', 'Termination message': 'Model was solved to optimality (subject to tolerances), and an optimal solution is available.', 'Wall time': '0.0049839019775390625', 'Error rc': 0, 'Time': 0.11868095397949219}], 'Solution': [OrderedDict([('number of solutions', 0), ('number of solutions displayed', 0)])]}"
      ]
     },
     "execution_count": 46,
     "metadata": {},
     "output_type": "execute_result"
    }
   ],
   "source": [
    "#solve the model\n",
    "solver = pe.SolverFactory('gurobi')\n",
    "solver.solve(model4)"
   ]
  },
  {
   "cell_type": "markdown",
   "metadata": {},
   "source": [
    "### Question1(c)(i)"
   ]
  },
  {
   "cell_type": "code",
   "execution_count": 50,
   "metadata": {
    "scrolled": false
   },
   "outputs": [
    {
     "name": "stdout",
     "output_type": "stream",
     "text": [
      "Planet A should be used.\n",
      "Planet B should be used.\n",
      "Planet C should be used.\n",
      "Planet E should be used.\n",
      "4 planets should be used.\n"
     ]
    }
   ],
   "source": [
    "count = 0\n",
    "for m in range(5):\n",
    "    if model4.x2[m].value == 1:\n",
    "        print('Planet', plant[m], 'should be used.')\n",
    "        count += 1\n",
    "print(count, 'planets should be used.')"
   ]
  },
  {
   "cell_type": "markdown",
   "metadata": {},
   "source": [
    "### Question1(c)(ii)"
   ]
  },
  {
   "cell_type": "code",
   "execution_count": 51,
   "metadata": {
    "scrolled": true
   },
   "outputs": [
    {
     "name": "stdout",
     "output_type": "stream",
     "text": [
      "7.0 million tons of textiles are transported from B to 2 by rail.\n",
      "10.0 million tons of textiles are transported from E to 8 by rail.\n",
      "2.0 million tons of textiles are transported from A to 3 by ship.\n",
      "13.0 million tons of textiles are transported from A to 5 by ship.\n",
      "9.0 million tons of textiles are transported from B to 3 by ship.\n",
      "4.0 million tons of textiles are transported from B to 9 by ship.\n",
      "12.0 million tons of textiles are transported from C to 4 by ship.\n",
      "9.0 million tons of textiles are transported from C to 7 by ship.\n",
      "4.0 million tons of textiles are transported from C to 9 by ship.\n",
      "5.0 million tons of textiles are transported from E to 1 by ship.\n",
      "6.0 million tons of textiles are transported from E to 6 by ship.\n",
      "12.0 million tons of textiles are transported from E to 10 by ship.\n"
     ]
    }
   ],
   "source": [
    "for q in range(5):\n",
    "    for j in market:\n",
    "        if model4.x1[plant2[q], j].value != 0:\n",
    "            print(model4.x1[plant2[q], j].value, 'million tons of textiles are transported from', plant[q], 'to', j, 'by rail.')\n",
    "for q in range(5, 10):\n",
    "    for j in market:\n",
    "        if model4.x1[plant2[q], j].value != 0:\n",
    "            print(model4.x1[plant2[q], j].value, 'million tons of textiles are transported from', plant[q - 5], 'to', j, 'by ship.')"
   ]
  },
  {
   "cell_type": "markdown",
   "metadata": {},
   "source": [
    "### Question1(c)(iii)"
   ]
  },
  {
   "cell_type": "code",
   "execution_count": 53,
   "metadata": {},
   "outputs": [
    {
     "name": "stdout",
     "output_type": "stream",
     "text": [
      "The total cost is $8030020.500000 million.\n",
      "The transportation cost is $8030000.000000 millon.\n",
      "The operating cost is $20.500000 million.\n"
     ]
    }
   ],
   "source": [
    "cost_op = 0\n",
    "for m in range(5):\n",
    "    cost_op += model4.x2[m].value * op[m]/(10 ** 2)\n",
    "cost_tran = model4.obj() * 10 ** 4 - cost_op\n",
    "print('The total cost is $%f million.' %(model4.obj() * 10 ** 4))\n",
    "print('The transportation cost is $%f millon.' %(cost_tran))\n",
    "print('The operating cost is $%f million.' %(cost_op))"
   ]
  },
  {
   "cell_type": "markdown",
   "metadata": {},
   "source": [
    "### Question1(c)(iv)"
   ]
  },
  {
   "cell_type": "code",
   "execution_count": 54,
   "metadata": {},
   "outputs": [],
   "source": [
    "#set model\n",
    "model5 = pe.ConcreteModel()\n",
    "model5.s1 = pe.Set(initialize = list((i,j) for i in plant2 for j in market))\n",
    "model5.s2 = pe.Set(initialize = list((m) for m in range(5)))\n",
    "\n",
    "#set variable\n",
    "model5.x1 = pe.Var(\n",
    "    model5.s1, domain = pe.NonNegativeReals)\n",
    "model5.x2 = pe.Var(\n",
    "    model5.s2, domain = pe.Binary)\n",
    "\n",
    "#set objective\n",
    "model5.obj = pe.Objective(\n",
    "    expr = sum(model5.x1[i, j] * trans3[j][i] for i,j in model5.s1) + sum((model5.x2[m] * op[m])/(10**6) for m in model5.s2),\n",
    "    sense = pe.minimize)"
   ]
  },
  {
   "cell_type": "code",
   "execution_count": 55,
   "metadata": {},
   "outputs": [],
   "source": [
    "#set constraints on supply\n",
    "model5.conssupplyA = pe.Constraint(\n",
    "    expr = sum(model5.x1['A1', j] + model5.x1['A2', j] for j in market) <= supply[0] * model5.x2[0])\n",
    "model5.conssupplyB = pe.Constraint(\n",
    "    expr = sum(model5.x1['B1', j] + model5.x1['B2', j] for j in market) <= supply[1] * model5.x2[1])\n",
    "model5.conssupplyC = pe.Constraint(\n",
    "    expr = sum(model5.x1['C1', j] + model5.x1['C2', j] for j in market) <= supply[2] * model5.x2[2])\n",
    "model5.conssupplyD = pe.Constraint(\n",
    "    expr = sum(model5.x1['D1', j] + model5.x1['D2', j] for j in market) <= supply[3] * model5.x2[3])\n",
    "model5.conssupplyE = pe.Constraint(\n",
    "    expr = sum(model5.x1['E1', j] + model5.x1['E2', j] for j in market) <= supply[4] * model5.x2[4])\n",
    "model5.conssupplyAused = pe.Constraint(\n",
    "    expr = model5.x2[0] == 1)\n",
    "model5.conssupplyBused = pe.Constraint(\n",
    "    expr = model5.x2[1] == 1)\n",
    "model5.conssupplyCused = pe.Constraint(\n",
    "    expr = model5.x2[2] == 1)\n",
    "model5.conssupplyDused = pe.Constraint(\n",
    "    expr = model5.x2[3] == 1)\n",
    "model5.conssupplyEused = pe.Constraint(\n",
    "    expr = model5.x2[4] == 1)"
   ]
  },
  {
   "cell_type": "code",
   "execution_count": 56,
   "metadata": {},
   "outputs": [],
   "source": [
    "#set constraints on demand\n",
    "model5.consdemand1 = pe.Constraint(\n",
    "    expr = sum(model5.x1[i, 1] for i in plant2) == demand[0])\n",
    "model5.consdemand2 = pe.Constraint(\n",
    "    expr = sum(model5.x1[i, 2] for i in plant2) == demand[1])\n",
    "model5.consdemand3 = pe.Constraint(\n",
    "    expr = sum(model5.x1[i, 3] for i in plant2) == demand[2])\n",
    "model5.consdemand4 = pe.Constraint(\n",
    "    expr = sum(model5.x1[i, 4] for i in plant2) == demand[3])\n",
    "model5.consdemand5 = pe.Constraint(\n",
    "    expr = sum(model5.x1[i, 5] for i in plant2) == demand[4])\n",
    "model5.consdemand6 = pe.Constraint(\n",
    "    expr = sum(model5.x1[i, 6] for i in plant2) == demand[5])\n",
    "model5.consdemand7 = pe.Constraint(\n",
    "    expr = sum(model5.x1[i, 7] for i in plant2) == demand[6])\n",
    "model5.consdemand8 = pe.Constraint(\n",
    "    expr = sum(model5.x1[i, 8] for i in plant2) == demand[7])\n",
    "model5.consdemand9 = pe.Constraint(\n",
    "    expr = sum(model5.x1[i, 9] for i in plant2) == demand[8])\n",
    "model5.consdemand10 = pe.Constraint(\n",
    "    expr = sum(model5.x1[i, 10] for i in plant2) == demand[9])"
   ]
  },
  {
   "cell_type": "code",
   "execution_count": 57,
   "metadata": {},
   "outputs": [
    {
     "data": {
      "text/plain": [
       "{'Problem': [{'Name': 'x106', 'Lower bound': 803.00285, 'Upper bound': 803.00285, 'Number of objectives': 1, 'Number of constraints': 21, 'Number of variables': 106, 'Number of binary variables': 5, 'Number of integer variables': 5, 'Number of continuous variables': 101, 'Number of nonzeros': 211, 'Sense': 'minimize'}], 'Solver': [{'Status': 'ok', 'Return code': '0', 'Message': 'Model was solved to optimality (subject to tolerances), and an optimal solution is available.', 'Termination condition': 'optimal', 'Termination message': 'Model was solved to optimality (subject to tolerances), and an optimal solution is available.', 'Wall time': '0.00698089599609375', 'Error rc': 0, 'Time': 0.11768388748168945}], 'Solution': [OrderedDict([('number of solutions', 0), ('number of solutions displayed', 0)])]}"
      ]
     },
     "execution_count": 57,
     "metadata": {},
     "output_type": "execute_result"
    }
   ],
   "source": [
    "#solve the model\n",
    "solver = pe.SolverFactory('gurobi')\n",
    "solver.solve(model5)"
   ]
  },
  {
   "cell_type": "code",
   "execution_count": 58,
   "metadata": {
    "scrolled": true
   },
   "outputs": [
    {
     "name": "stdout",
     "output_type": "stream",
     "text": [
      "7.0 million tons of textiles are transported from B to 2 by rail.\n",
      "10.0 million tons of textiles are transported from E to 8 by rail.\n",
      "2.0 million tons of textiles are transported from A to 3 by ship.\n",
      "13.0 million tons of textiles are transported from A to 5 by ship.\n",
      "9.0 million tons of textiles are transported from B to 3 by ship.\n",
      "4.0 million tons of textiles are transported from B to 9 by ship.\n",
      "12.0 million tons of textiles are transported from C to 4 by ship.\n",
      "9.0 million tons of textiles are transported from C to 7 by ship.\n",
      "4.0 million tons of textiles are transported from C to 9 by ship.\n",
      "5.0 million tons of textiles are transported from E to 1 by ship.\n",
      "6.0 million tons of textiles are transported from E to 6 by ship.\n",
      "12.0 million tons of textiles are transported from E to 10 by ship.\n"
     ]
    }
   ],
   "source": [
    "for q in range(5):\n",
    "    for j in market:\n",
    "        if model5.x1[plant2[q], j].value != 0:\n",
    "            print(model5.x1[plant2[q], j].value, 'million tons of textiles are transported from', plant[q], 'to', j, 'by rail.')\n",
    "for q in range(5, 10):\n",
    "    for j in market:\n",
    "        if model5.x1[plant2[q], j].value != 0:\n",
    "            print(model5.x1[plant2[q], j].value, 'million tons of textiles are transported from', plant[q - 5], 'to', j, 'by ship.')"
   ]
  },
  {
   "cell_type": "code",
   "execution_count": 60,
   "metadata": {},
   "outputs": [
    {
     "name": "stdout",
     "output_type": "stream",
     "text": [
      "The total cost is $8030028.500000 million.\n",
      "The transportation cost is $8030000.000000 millon.\n",
      "The operating cost is $28.500000 million.\n"
     ]
    }
   ],
   "source": [
    "cost_op = 0\n",
    "for m in range(5):\n",
    "    cost_op += model5.x2[m].value * op[m]/(10 ** 2)\n",
    "cost_tran = model5.obj() * 10 ** 4 - cost_op\n",
    "print('The total cost is $%f million.' %(model5.obj() * 10 ** 4))\n",
    "print('The transportation cost is $%f millon.' %(cost_tran))\n",
    "print('The operating cost is $%f million.' %(cost_op))"
   ]
  }
 ],
 "metadata": {
  "kernelspec": {
   "display_name": "Python 3",
   "language": "python",
   "name": "python3"
  },
  "language_info": {
   "codemirror_mode": {
    "name": "ipython",
    "version": 3
   },
   "file_extension": ".py",
   "mimetype": "text/x-python",
   "name": "python",
   "nbconvert_exporter": "python",
   "pygments_lexer": "ipython3",
   "version": "3.8.3"
  },
  "toc": {
   "base_numbering": 1,
   "nav_menu": {},
   "number_sections": true,
   "sideBar": true,
   "skip_h1_title": false,
   "title_cell": "Table of Contents",
   "title_sidebar": "Contents",
   "toc_cell": false,
   "toc_position": {},
   "toc_section_display": true,
   "toc_window_display": false
  }
 },
 "nbformat": 4,
 "nbformat_minor": 4
}
