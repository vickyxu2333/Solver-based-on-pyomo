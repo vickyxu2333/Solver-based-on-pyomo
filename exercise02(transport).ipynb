{
 "cells": [
  {
   "cell_type": "markdown",
   "metadata": {},
   "source": [
    "## Question1(b)"
   ]
  },
  {
   "cell_type": "markdown",
   "metadata": {},
   "source": [
    "### Question1(b)(i)"
   ]
  },
  {
   "cell_type": "code",
   "execution_count": 26,
   "metadata": {},
   "outputs": [],
   "source": [
    "#set model\n",
    "model2_1 = pe.ConcreteModel()\n",
    "model2_1.s = pe.Set(initialize = list((i,j) for i in plant2 for j in market))\n",
    "\n",
    "#set variable\n",
    "model2_1.x = pe.Var(\n",
    "    model2_1.s, domain = pe.NonNegativeReals)\n",
    "\n",
    "#set objective\n",
    "model2_1.obj = pe.Objective(\n",
    "    expr = sum(model2_1.x[i, j]*trans3[j][i] for i, j in model2_1.s) + 1,\n",
    "    sense = pe.minimize)"
   ]
  },
  {
   "cell_type": "code",
   "execution_count": 27,
   "metadata": {},
   "outputs": [],
   "source": [
    "#set constraints on supply\n",
    "model2_1.conssupplyA = pe.Constraint(\n",
    "    expr = sum(model2_1.x['A1', j] + model2_1.x['A2', j] for j in market) <= supply[0])\n",
    "model2_1.conssupplyB = pe.Constraint(\n",
    "    expr = sum(model2_1.x['B1', j] + model2_1.x['B2', j] for j in market) <= supply[1])\n",
    "model2_1.conssupplyC = pe.Constraint(\n",
    "    expr = sum(model2_1.x['C1', j] + model2_1.x['C2', j] for j in market) <= supply[2])\n",
    "model2_1.conssupplyD = pe.Constraint(\n",
    "    expr = sum(model2_1.x['D1', j] + model2_1.x['D2', j] for j in market) <= supply[3])\n",
    "model2_1.conssupplyE = pe.Constraint(\n",
    "    expr = sum(model2_1.x['E1', j] + model2_1.x['E2', j] for j in market) <= supply[4])"
   ]
  },
  {
   "cell_type": "code",
   "execution_count": 28,
   "metadata": {
    "scrolled": true
   },
   "outputs": [],
   "source": [
    "#set constraints on demand\n",
    "model2_1.consdemand1 = pe.Constraint(\n",
    "    expr = sum(model2_1.x[i, 1] for i in plant2) == demand[0])\n",
    "model2_1.consdemand2 = pe.Constraint(\n",
    "    expr = sum(model2_1.x[i, 2] for i in plant2) == demand[1])\n",
    "model2_1.consdemand3 = pe.Constraint(\n",
    "    expr = sum(model2_1.x[i, 3] for i in plant2) == demand[2])\n",
    "model2_1.consdemand4 = pe.Constraint(\n",
    "    expr = sum(model2_1.x[i, 4] for i in plant2) == demand[3])\n",
    "model2_1.consdemand5 = pe.Constraint(\n",
    "    expr = sum(model2_1.x[i, 5] for i in plant2) == demand[4])\n",
    "model2_1.consdemand6 = pe.Constraint(\n",
    "    expr = sum(model2_1.x[i, 6] for i in plant2) == demand[5])\n",
    "model2_1.consdemand7 = pe.Constraint(\n",
    "    expr = sum(model2_1.x[i, 7] for i in plant2) == demand[6])\n",
    "model2_1.consdemand8 = pe.Constraint(\n",
    "    expr = sum(model2_1.x[i, 8] for i in plant2) == demand[7])\n",
    "model2_1.consdemand9 = pe.Constraint(\n",
    "    expr = sum(model2_1.x[i, 9] for i in plant2) == demand[8])\n",
    "model2_1.consdemand10 = pe.Constraint(\n",
    "    expr = sum(model2_1.x[i, 10] for i in plant2) == demand[9])"
   ]
  },
  {
   "cell_type": "code",
   "execution_count": 30,
   "metadata": {
    "scrolled": true
   },
   "outputs": [
    {
     "data": {
      "text/plain": [
       "{'Problem': [{'Name': 'x101', 'Lower bound': 804.0, 'Upper bound': 804.0, 'Number of objectives': 1, 'Number of constraints': 16, 'Number of variables': 101, 'Number of binary variables': 0, 'Number of integer variables': 0, 'Number of continuous variables': 101, 'Number of nonzeros': 201, 'Sense': 'minimize'}], 'Solver': [{'Status': 'ok', 'Return code': '0', 'Message': 'Model was solved to optimality (subject to tolerances), and an optimal solution is available.', 'Termination condition': 'optimal', 'Termination message': 'Model was solved to optimality (subject to tolerances), and an optimal solution is available.', 'Wall time': '0.009197235107421875', 'Error rc': 0, 'Time': 0.1249246597290039}], 'Solution': [OrderedDict([('number of solutions', 0), ('number of solutions displayed', 0)])]}"
      ]
     },
     "execution_count": 30,
     "metadata": {},
     "output_type": "execute_result"
    }
   ],
   "source": [
    "#solve the model\n",
    "solver = pe.SolverFactory('gurobi')\n",
    "solver.solve(model2_1)"
   ]
  },
  {
   "cell_type": "code",
   "execution_count": 31,
   "metadata": {
    "scrolled": true
   },
   "outputs": [
    {
     "name": "stdout",
     "output_type": "stream",
     "text": [
      "7.0 million tons of textiles are transported from B to 2 by rail.\n",
      "10.0 million tons of textiles are transported from E to 8 by rail.\n",
      "2.0 million tons of textiles are transported from A to 3 by ship.\n",
      "13.0 million tons of textiles are transported from A to 5 by ship.\n",
      "9.0 million tons of textiles are transported from B to 3 by ship.\n",
      "4.0 million tons of textiles are transported from B to 9 by ship.\n",
      "12.0 million tons of textiles are transported from C to 4 by ship.\n",
      "9.0 million tons of textiles are transported from C to 7 by ship.\n",
      "4.0 million tons of textiles are transported from C to 9 by ship.\n",
      "5.0 million tons of textiles are transported from E to 1 by ship.\n",
      "6.0 million tons of textiles are transported from E to 6 by ship.\n",
      "12.0 million tons of textiles are transported from E to 10 by ship.\n"
     ]
    }
   ],
   "source": [
    "for q in range(5):\n",
    "    for j in market:\n",
    "        if model2_1.x[plant2[q], j].value != 0:\n",
    "            print(model3.x[plant2[q], j].value, 'million tons of textiles are transported from', plant[q], 'to', j, 'by rail.')\n",
    "for q in range(5, 10):\n",
    "    for j in market:\n",
    "        if model2_1.x[plant2[q], j].value != 0:\n",
    "            print(model3.x[plant2[q], j].value, 'million tons of textiles are transported from', plant[q - 5], 'to', j, 'by ship.')"
   ]
  },
  {
   "cell_type": "code",
   "execution_count": 32,
   "metadata": {},
   "outputs": [
    {
     "name": "stdout",
     "output_type": "stream",
     "text": [
      "The total cost is $8040000.000000 million.\n"
     ]
    }
   ],
   "source": [
    "print('The total cost is $%f million.' %(model2_1.obj() * 10 ** 4))"
   ]
  },
  {
   "cell_type": "markdown",
   "metadata": {},
   "source": [
    "### Question1(b)(ii)"
   ]
  },
  {
   "cell_type": "code",
   "execution_count": 40,
   "metadata": {},
   "outputs": [
    {
     "name": "stdout",
     "output_type": "stream",
     "text": [
      "Expanding 1 ton of textile in planet A will decrease $ 10000.0\n",
      "Expanding 1 ton of textile in planet B will decrease $ 30000.0009765625\n",
      "Expanding 1 ton of textile in planet C will decrease $ 20000.0\n",
      "Expanding 1 ton of textile in planet D will decrease $ 0.0\n",
      "Expanding 1 ton of textile in planet E will decrease $ 0.0\n",
      "\n",
      "Planet B is worth expanding.\n"
     ]
    }
   ],
   "source": [
    "def expand1(i):\n",
    "    supply1 = supply.copy()\n",
    "    supply1[i] = supply1[i] + 1 / 10 ** 6\n",
    "    \n",
    "    #set model\n",
    "    model2_2= pe.ConcreteModel()\n",
    "    model2_2.s = pe.Set(initialize = list((i,j) for i in plant2 for j in market))\n",
    "\n",
    "    #set variable\n",
    "    model2_2.x = pe.Var(\n",
    "        model2_2.s, domain = pe.NonNegativeReals)\n",
    "\n",
    "    #set objective\n",
    "    model2_2.obj = pe.Objective(\n",
    "        expr = sum(model2_2.x[i, j]*trans3[j][i] for i, j in model2_2.s),\n",
    "        sense = pe.minimize)\n",
    "    \n",
    "    #set constraints on supply\n",
    "    model2_2.conssupplyA = pe.Constraint(\n",
    "        expr = sum(model2_2.x['A1', j] + model2_2.x['A2', j] for j in market) <= supply1[0])\n",
    "    model2_2.conssupplyB = pe.Constraint(\n",
    "        expr = sum(model2_2.x['B1', j] + model2_2.x['B2', j] for j in market) <= supply1[1])\n",
    "    model2_2.conssupplyC = pe.Constraint(\n",
    "        expr = sum(model2_2.x['C1', j] + model2_2.x['C2', j] for j in market) <= supply1[2])\n",
    "    model2_2.conssupplyD = pe.Constraint(\n",
    "        expr = sum(model2_2.x['D1', j] + model2_2.x['D2', j] for j in market) <= supply1[3])\n",
    "    model2_2.conssupplyE = pe.Constraint(\n",
    "        expr = sum(model2_2.x['E1', j] + model2_2.x['E2', j] for j in market) <= supply1[4])\n",
    "    \n",
    "    #set constraints on demand\n",
    "    model2_2.consdemand1 = pe.Constraint(\n",
    "        expr = sum(model2_2.x[i, 1] for i in plant2) == demand[0])\n",
    "    model2_2.consdemand2 = pe.Constraint(\n",
    "        expr = sum(model2_2.x[i, 2] for i in plant2) == demand[1])\n",
    "    model2_2.consdemand3 = pe.Constraint(\n",
    "        expr = sum(model2_2.x[i, 3] for i in plant2) == demand[2])\n",
    "    model2_2.consdemand4 = pe.Constraint(\n",
    "        expr = sum(model2_2.x[i, 4] for i in plant2) == demand[3])\n",
    "    model2_2.consdemand5 = pe.Constraint(\n",
    "        expr = sum(model2_2.x[i, 5] for i in plant2) == demand[4])\n",
    "    model2_2.consdemand6 = pe.Constraint(\n",
    "        expr = sum(model2_2.x[i, 6] for i in plant2) == demand[5])\n",
    "    model2_2.consdemand7 = pe.Constraint(\n",
    "        expr = sum(model2_2.x[i, 7] for i in plant2) == demand[6])\n",
    "    model2_2.consdemand8 = pe.Constraint(\n",
    "        expr = sum(model2_2.x[i, 8] for i in plant2) == demand[7])\n",
    "    model2_2.consdemand9 = pe.Constraint(\n",
    "        expr = sum(model2_2.x[i, 9] for i in plant2) == demand[8])\n",
    "    model2_2.consdemand10 = pe.Constraint(\n",
    "        expr = sum(model2_2.x[i, 10] for i in plant2) == demand[9])\n",
    "    \n",
    "    #solve the model\n",
    "    solver = pe.SolverFactory('gurobi')\n",
    "    solver.solve(model2_2)\n",
    "    return model2_2.obj()\n",
    "\n",
    "shadowprice = []\n",
    "for i in range(5):\n",
    "    shadowprice.append(model3.obj() * 10 ** 10 - expand1(i) * 10 ** 10)\n",
    "    print('Expanding 1 ton of textile in planet', plant[i],'will decrease $', shadowprice[i])\n",
    "\n",
    "for i in range(5):    \n",
    "    if shadowprice[i] > 20000:\n",
    "        print('\\nPlanet', plant[i], 'is worth expanding.')"
   ]
  },
  {
   "cell_type": "markdown",
   "metadata": {},
   "source": [
    "### Question1(b)(iii)"
   ]
  },
  {
   "cell_type": "code",
   "execution_count": 42,
   "metadata": {},
   "outputs": [
    {
     "name": "stdout",
     "output_type": "stream",
     "text": [
      "The total transportation cost will increase $ 80000.0 if there is an additional ton of demand at market 1\n",
      "The total transportation cost will increase $ 100000.0 if there is an additional ton of demand at market 2\n",
      "The total transportation cost will increase $ 90000.0 if there is an additional ton of demand at market 3\n",
      "The total transportation cost will increase $ 80000.0 if there is an additional ton of demand at market 4\n",
      "The total transportation cost will increase $ 100000.0 if there is an additional ton of demand at market 5\n",
      "The total transportation cost will increase $ 110000.0 if there is an additional ton of demand at market 6\n",
      "The total transportation cost will increase $ 100000.0 if there is an additional ton of demand at market 7\n",
      "The total transportation cost will increase $ 100000.0 if there is an additional ton of demand at market 8\n",
      "The total transportation cost will increase $ 110000.0 if there is an additional ton of demand at market 9\n",
      "The total transportation cost will increase $ 130000.0 if there is an additional ton of demand at market 10\n"
     ]
    }
   ],
   "source": [
    "def expand2(j):\n",
    "    demand1 = demand.copy()\n",
    "    demand1[j] = demand1[j] + 1 / 10 ** 6\n",
    "    \n",
    "    #set model\n",
    "    model2_3= pe.ConcreteModel()\n",
    "    model2_3.s = pe.Set(initialize = list((i,j) for i in plant2 for j in market))\n",
    "\n",
    "    #set variable\n",
    "    model2_3.x = pe.Var(\n",
    "        model2_3.s, domain = pe.NonNegativeReals)\n",
    "\n",
    "    #set objective\n",
    "    model2_3.obj = pe.Objective(\n",
    "        expr = sum(model2_3.x[i, j]*trans3[j][i] for i, j in model2_3.s),\n",
    "        sense = pe.minimize)\n",
    "    \n",
    "    #set constraints on supply\n",
    "    model2_3.conssupplyA = pe.Constraint(\n",
    "        expr = sum(model2_3.x['A1', j] + model2_3.x['A2', j] for j in market) <= supply[0])\n",
    "    model2_3.conssupplyB = pe.Constraint(\n",
    "        expr = sum(model2_3.x['B1', j] + model2_3.x['B2', j] for j in market) <= supply[1])\n",
    "    model2_3.conssupplyC = pe.Constraint(\n",
    "        expr = sum(model2_3.x['C1', j] + model2_3.x['C2', j] for j in market) <= supply[2])\n",
    "    model2_3.conssupplyD = pe.Constraint(\n",
    "        expr = sum(model2_3.x['D1', j] + model2_3.x['D2', j] for j in market) <= supply[3])\n",
    "    model2_3.conssupplyE = pe.Constraint(\n",
    "        expr = sum(model2_3.x['E1', j] + model2_3.x['E2', j] for j in market) <= supply[4])\n",
    "    \n",
    "    #set constraints on demand\n",
    "    model2_3.consdemand1 = pe.Constraint(\n",
    "        expr = sum(model2_3.x[i, 1] for i in plant2) == demand1[0])\n",
    "    model2_3.consdemand2 = pe.Constraint(\n",
    "        expr = sum(model2_3.x[i, 2] for i in plant2) == demand1[1])\n",
    "    model2_3.consdemand3 = pe.Constraint(\n",
    "        expr = sum(model2_3.x[i, 3] for i in plant2) == demand1[2])\n",
    "    model2_3.consdemand4 = pe.Constraint(\n",
    "        expr = sum(model2_3.x[i, 4] for i in plant2) == demand1[3])\n",
    "    model2_3.consdemand5 = pe.Constraint(\n",
    "        expr = sum(model2_3.x[i, 5] for i in plant2) == demand1[4])\n",
    "    model2_3.consdemand6 = pe.Constraint(\n",
    "        expr = sum(model2_3.x[i, 6] for i in plant2) == demand1[5])\n",
    "    model2_3.consdemand7 = pe.Constraint(\n",
    "        expr = sum(model2_3.x[i, 7] for i in plant2) == demand1[6])\n",
    "    model2_3.consdemand8 = pe.Constraint(\n",
    "        expr = sum(model2_3.x[i, 8] for i in plant2) == demand1[7])\n",
    "    model2_3.consdemand9 = pe.Constraint(\n",
    "        expr = sum(model2_3.x[i, 9] for i in plant2) == demand1[8])\n",
    "    model2_3.consdemand10 = pe.Constraint(\n",
    "        expr = sum(model2_3.x[i, 10] for i in plant2) == demand1[9])\n",
    "    \n",
    "    #solve the model\n",
    "    solver = pe.SolverFactory('gurobi')\n",
    "    solver.solve(model2_3)\n",
    "    return model2_3.obj()\n",
    "\n",
    "shadowprice2 = []\n",
    "for j in range(10):\n",
    "    shadowprice2.append(expand2(j) * 10 ** 10 - model3.obj() * 10 ** 10)\n",
    "    print('The total transportation cost will increase $', shadowprice2[j], 'if there is an additional ton of demand at market', market[j])"
   ]
  },
  {
   "cell_type": "markdown",
   "metadata": {},
   "source": [
    "## Question1(c)"
   ]
  },
  {
   "cell_type": "code",
   "execution_count": 43,
   "metadata": {},
   "outputs": [],
   "source": [
    "op = [500, 400, 550, 800, 600]\n",
    "\n",
    "#set model\n",
    "model4 = pe.ConcreteModel()\n",
    "model4.s1 = pe.Set(initialize = list((i,j) for i in plant2 for j in market))\n",
    "model4.s2 = pe.Set(initialize = list((m) for m in range(5)))\n",
    "\n",
    "#set variable\n",
    "model4.x1 = pe.Var(\n",
    "    model4.s1, domain = pe.NonNegativeReals)\n",
    "model4.x2 = pe.Var(\n",
    "    model4.s2, domain = pe.Binary)\n",
    "\n",
    "#set objective\n",
    "model4.obj = pe.Objective(\n",
    "    expr = sum(model4.x1[i, j] * trans3[j][i] for i,j in model4.s1) + sum((model4.x2[m] * op[m])/(10**6) for m in model4.s2),\n",
    "    sense = pe.minimize)"
   ]
  },
  {
   "cell_type": "code",
   "execution_count": 44,
   "metadata": {},
   "outputs": [],
   "source": [
    "#set constraints on supply\n",
    "model4.conssupplyA = pe.Constraint(\n",
    "    expr = sum(model4.x1['A1', j] + model4.x1['A2', j] for j in market) <= supply[0] * model4.x2[0])\n",
    "model4.conssupplyB = pe.Constraint(\n",
    "    expr = sum(model4.x1['B1', j] + model4.x1['B2', j] for j in market) <= supply[1] * model4.x2[1])\n",
    "model4.conssupplyC = pe.Constraint(\n",
    "    expr = sum(model4.x1['C1', j] + model4.x1['C2', j] for j in market) <= supply[2] * model4.x2[2])\n",
    "model4.conssupplyD = pe.Constraint(\n",
    "    expr = sum(model4.x1['D1', j] + model4.x1['D2', j] for j in market) <= supply[3] * model4.x2[3])\n",
    "model4.conssupplyE = pe.Constraint(\n",
    "    expr = sum(model4.x1['E1', j] + model4.x1['E2', j] for j in market) <= supply[4] * model4.x2[4])"
   ]
  },
  {
   "cell_type": "code",
   "execution_count": 45,
   "metadata": {
    "scrolled": true
   },
   "outputs": [],
   "source": [
    "#set constraints on demand\n",
    "model4.consdemand1 = pe.Constraint(\n",
    "    expr = sum(model4.x1[i, 1] for i in plant2) == demand[0])\n",
    "model4.consdemand2 = pe.Constraint(\n",
    "    expr = sum(model4.x1[i, 2] for i in plant2) == demand[1])\n",
    "model4.consdemand3 = pe.Constraint(\n",
    "    expr = sum(model4.x1[i, 3] for i in plant2) == demand[2])\n",
    "model4.consdemand4 = pe.Constraint(\n",
    "    expr = sum(model4.x1[i, 4] for i in plant2) == demand[3])\n",
    "model4.consdemand5 = pe.Constraint(\n",
    "    expr = sum(model4.x1[i, 5] for i in plant2) == demand[4])\n",
    "model4.consdemand6 = pe.Constraint(\n",
    "    expr = sum(model4.x1[i, 6] for i in plant2) == demand[5])\n",
    "model4.consdemand7 = pe.Constraint(\n",
    "    expr = sum(model4.x1[i, 7] for i in plant2) == demand[6])\n",
    "model4.consdemand8 = pe.Constraint(\n",
    "    expr = sum(model4.x1[i, 8] for i in plant2) == demand[7])\n",
    "model4.consdemand9 = pe.Constraint(\n",
    "    expr = sum(model4.x1[i, 9] for i in plant2) == demand[8])\n",
    "model4.consdemand10 = pe.Constraint(\n",
    "    expr = sum(model4.x1[i, 10] for i in plant2) == demand[9])"
   ]
  },
  {
   "cell_type": "code",
   "execution_count": 46,
   "metadata": {},
   "outputs": [
    {
     "data": {
      "text/plain": [
       "{'Problem': [{'Name': 'x106', 'Lower bound': 803.0020499999999, 'Upper bound': 803.0020499999999, 'Number of objectives': 1, 'Number of constraints': 16, 'Number of variables': 106, 'Number of binary variables': 5, 'Number of integer variables': 5, 'Number of continuous variables': 101, 'Number of nonzeros': 206, 'Sense': 'minimize'}], 'Solver': [{'Status': 'ok', 'Return code': '0', 'Message': 'Model was solved to optimality (subject to tolerances), and an optimal solution is available.', 'Termination condition': 'optimal', 'Termination message': 'Model was solved to optimality (subject to tolerances), and an optimal solution is available.', 'Wall time': '0.0049839019775390625', 'Error rc': 0, 'Time': 0.11868095397949219}], 'Solution': [OrderedDict([('number of solutions', 0), ('number of solutions displayed', 0)])]}"
      ]
     },
     "execution_count": 46,
     "metadata": {},
     "output_type": "execute_result"
    }
   ],
   "source": [
    "#solve the model\n",
    "solver = pe.SolverFactory('gurobi')\n",
    "solver.solve(model4)"
   ]
  }
 ],
 "metadata": {
  "kernelspec": {
   "display_name": "Python 3",
   "language": "python",
   "name": "python3"
  },
  "language_info": {
   "codemirror_mode": {
    "name": "ipython",
    "version": 3
   },
   "file_extension": ".py",
   "mimetype": "text/x-python",
   "name": "python",
   "nbconvert_exporter": "python",
   "pygments_lexer": "ipython3",
   "version": "3.8.3"
  },
  "toc": {
   "base_numbering": 1,
   "nav_menu": {},
   "number_sections": true,
   "sideBar": true,
   "skip_h1_title": false,
   "title_cell": "Table of Contents",
   "title_sidebar": "Contents",
   "toc_cell": false,
   "toc_position": {},
   "toc_section_display": true,
   "toc_window_display": false
  }
 },
 "nbformat": 4,
 "nbformat_minor": 4
}
